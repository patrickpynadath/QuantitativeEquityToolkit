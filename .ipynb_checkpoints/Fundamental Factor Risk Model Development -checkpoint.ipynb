{
 "cells": [
  {
   "cell_type": "code",
   "execution_count": 1,
   "metadata": {},
   "outputs": [],
   "source": [
    "import pandas as pd\n",
    "import numpy as np \n",
    "import pickle\n",
    "from basic_analysis_toolkit import BasicAnalysis\n",
    "from company_toolkit import *\n",
    "import datetime"
   ]
  },
  {
   "cell_type": "code",
   "execution_count": 2,
   "metadata": {},
   "outputs": [],
   "source": [
    "sp500_dataframe = pickle.load(open('sp500_dataframe', 'rb'))        \n",
    "company_dict = pickle.load(open('company_dictionary.pickle', 'rb'))\n",
    "analysis = BasicAnalysis(sp500_dataframe)\n",
    "start = datetime.date(day=1, month=1, year=2018)\n",
    "end = datetime.date(day=1, month=1, year=2019)"
   ]
  },
  {
   "cell_type": "code",
   "execution_count": 3,
   "metadata": {},
   "outputs": [],
   "source": [
    "# Factors I want to include:\n",
    "company_ticker = 'AMZN'\n",
    "company = company_dict.get(company_ticker)\n",
    "# Industry dummy variables\n",
    "# size\n",
    "size = company.employees()\n",
    "# price to book \n",
    "price_book = company.price_book()\n",
    "# earning_yield\n",
    "earnings_yield = 1/company.price_earnings()\n",
    "# dividend yield\n",
    "dividend_yield = company.forward_yield()\n",
    "# momentum \n",
    "momentum = analysis.momentum(company_ticker, start, end, 10).mean()\n",
    "# growth \n",
    "growth = get_growth(company.income['Gross Profit']).mean()\n",
    "# earning variability\n",
    "earning_variability = company.earnings_variability()\n",
    "# financial leverage\n",
    "fin_leverage_ratio = company.debt_equity()[-1]\n",
    "# volatility\n",
    "volatility = (analysis.get_close(company_ticker, start, end, 'B').var() ** .5)/analysis.get_close(company_ticker, start, end, 'B').mean()\n",
    "# trading activity \n",
    "volume = analysis.get_trading_volume(company_ticker, start, end, 'BM').mean()"
   ]
  },
  {
   "cell_type": "code",
   "execution_count": 4,
   "metadata": {},
   "outputs": [
    {
     "ename": "ValueError",
     "evalue": "could not convert string to float: ",
     "output_type": "error",
     "traceback": [
      "\u001b[0;31m---------------------------------------------------------------------------\u001b[0m",
      "\u001b[0;31mValueError\u001b[0m                                Traceback (most recent call last)",
      "\u001b[0;32m<ipython-input-4-c4a430bec4cd>\u001b[0m in \u001b[0;36m<module>\u001b[0;34m\u001b[0m\n\u001b[1;32m      9\u001b[0m     \u001b[0;32mtry\u001b[0m\u001b[0;34m:\u001b[0m\u001b[0;34m\u001b[0m\u001b[0;34m\u001b[0m\u001b[0m\n\u001b[1;32m     10\u001b[0m         \u001b[0mcompany\u001b[0m \u001b[0;34m=\u001b[0m \u001b[0mcompany_dict\u001b[0m\u001b[0;34m.\u001b[0m\u001b[0mget\u001b[0m\u001b[0;34m(\u001b[0m\u001b[0mticker\u001b[0m\u001b[0;34m)\u001b[0m\u001b[0;34m\u001b[0m\u001b[0;34m\u001b[0m\u001b[0m\n\u001b[0;32m---> 11\u001b[0;31m         \u001b[0msize\u001b[0m \u001b[0;34m=\u001b[0m \u001b[0mcompany\u001b[0m\u001b[0;34m.\u001b[0m\u001b[0memployees\u001b[0m\u001b[0;34m(\u001b[0m\u001b[0;34m)\u001b[0m\u001b[0;34m\u001b[0m\u001b[0;34m\u001b[0m\u001b[0m\n\u001b[0m\u001b[1;32m     12\u001b[0m         \u001b[0msizes\u001b[0m\u001b[0;34m.\u001b[0m\u001b[0mappend\u001b[0m\u001b[0;34m(\u001b[0m\u001b[0msize\u001b[0m\u001b[0;34m)\u001b[0m\u001b[0;34m\u001b[0m\u001b[0;34m\u001b[0m\u001b[0m\n\u001b[1;32m     13\u001b[0m         \u001b[0midx\u001b[0m\u001b[0;34m.\u001b[0m\u001b[0mappend\u001b[0m\u001b[0;34m(\u001b[0m\u001b[0mticker\u001b[0m\u001b[0;34m)\u001b[0m\u001b[0;34m\u001b[0m\u001b[0;34m\u001b[0m\u001b[0m\n",
      "\u001b[0;32m~/PycharmProjects/QuantitativeToolkit/company_toolkit.py\u001b[0m in \u001b[0;36memployees\u001b[0;34m(self)\u001b[0m\n\u001b[1;32m    153\u001b[0m \u001b[0;34m\u001b[0m\u001b[0m\n\u001b[1;32m    154\u001b[0m     \u001b[0;32mdef\u001b[0m \u001b[0memployees\u001b[0m\u001b[0;34m(\u001b[0m\u001b[0mself\u001b[0m\u001b[0;34m)\u001b[0m\u001b[0;34m:\u001b[0m\u001b[0;34m\u001b[0m\u001b[0;34m\u001b[0m\u001b[0m\n\u001b[0;32m--> 155\u001b[0;31m         \u001b[0;32mreturn\u001b[0m \u001b[0mfloat\u001b[0m\u001b[0;34m(\u001b[0m\u001b[0mself\u001b[0m\u001b[0;34m.\u001b[0m\u001b[0minfo\u001b[0m\u001b[0;34m.\u001b[0m\u001b[0mget\u001b[0m\u001b[0;34m(\u001b[0m\u001b[0;34m'Employees'\u001b[0m\u001b[0;34m)\u001b[0m\u001b[0;34m.\u001b[0m\u001b[0mreplace\u001b[0m\u001b[0;34m(\u001b[0m\u001b[0;34m','\u001b[0m\u001b[0;34m,\u001b[0m \u001b[0;34m''\u001b[0m\u001b[0;34m)\u001b[0m\u001b[0;34m)\u001b[0m\u001b[0;34m\u001b[0m\u001b[0;34m\u001b[0m\u001b[0m\n\u001b[0m\u001b[1;32m    156\u001b[0m \u001b[0;34m\u001b[0m\u001b[0m\n\u001b[1;32m    157\u001b[0m     \u001b[0;32mdef\u001b[0m \u001b[0mprice_earnings\u001b[0m\u001b[0;34m(\u001b[0m\u001b[0mself\u001b[0m\u001b[0;34m)\u001b[0m\u001b[0;34m:\u001b[0m\u001b[0;34m\u001b[0m\u001b[0;34m\u001b[0m\u001b[0m\n",
      "\u001b[0;31mValueError\u001b[0m: could not convert string to float: "
     ]
    }
   ],
   "source": [
    "# creating the dataframe of all the information\n",
    "# strategy: add each column individually, that way I can track and fix errors as they occur \n",
    "# creating size column\n",
    "sizes = []\n",
    "tickers = list(company_dict.keys())\n",
    "list_ignored_companies = []\n",
    "idx = []\n",
    "for ticker in tickers:\n",
    "    try:\n",
    "        company = company_dict.get(ticker)\n",
    "        size = company.employees()\n",
    "        sizes.append(size)\n",
    "        idx.append(ticker)\n",
    "    except ValueError:\n",
    "        list_ignored_companies.append(ticker)\n",
    "sizes_series = pd.Series(sizes, index = idx)"
   ]
  },
  {
   "cell_type": "code",
   "execution_count": null,
   "metadata": {},
   "outputs": [],
   "source": [
    "# creating price to book column \n",
    "pb_ratios = []\n",
    "tickers = sizes_series.index\n",
    "idx = []\n",
    "for ticker in tickers:\n",
    "    try:\n",
    "        company = company_dict.get(ticker)\n",
    "        ratio = company.price_book()\n",
    "        pb_ratios.append(ratio)\n",
    "        idx.append(ticker)\n",
    "    except IndexError:\n",
    "        print(ticker)"
   ]
  },
  {
   "cell_type": "code",
   "execution_count": null,
   "metadata": {},
   "outputs": [],
   "source": [
    "company = "
   ]
  },
  {
   "cell_type": "code",
   "execution_count": null,
   "metadata": {},
   "outputs": [],
   "source": []
  }
 ],
 "metadata": {
  "kernelspec": {
   "display_name": "Python 3",
   "language": "python",
   "name": "python3"
  },
  "language_info": {
   "codemirror_mode": {
    "name": "ipython",
    "version": 3
   },
   "file_extension": ".py",
   "mimetype": "text/x-python",
   "name": "python",
   "nbconvert_exporter": "python",
   "pygments_lexer": "ipython3",
   "version": "3.7.4"
  }
 },
 "nbformat": 4,
 "nbformat_minor": 2
}

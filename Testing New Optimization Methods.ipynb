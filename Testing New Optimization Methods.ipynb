{
 "cells": [
  {
   "cell_type": "code",
   "execution_count": 32,
   "metadata": {},
   "outputs": [],
   "source": [
    "import pandas as pd\n",
    "import DataRetrieval\n",
    "import pickle\n",
    "from company_toolkit import *\n",
    "from basic_analysis_toolkit import BasicAnalysis\n",
    "import numpy as np\n",
    "import datetime"
   ]
  },
  {
   "cell_type": "code",
   "execution_count": 33,
   "metadata": {},
   "outputs": [],
   "source": [
    "d = pickle.load(open('company_dictionary.pickle', 'rb'))\n",
    "sp500_dataframe = pickle.load(open('sp500_dataframe', 'rb'))\n",
    "analysis = BasicAnalysis(sp500_dataframe)"
   ]
  },
  {
   "cell_type": "code",
   "execution_count": 46,
   "metadata": {},
   "outputs": [],
   "source": [
    "tickers = ['AMZN', 'WM']\n",
    "start = datetime.date(day=1, month=1, year=2018)\n",
    "end = datetime.date(day=1, month=1, year=2019)\n",
    "dict_returns = {}\n",
    "for ticker in tickers:\n",
    "    r = analysis.get_percent_change(ticker, start, end, 'BM')\n",
    "    dict_returns.update({ticker : r})\n",
    "returns_df = pd.DataFrame(dict_returns)\n",
    "    \n",
    "    "
   ]
  },
  {
   "cell_type": "code",
   "execution_count": 47,
   "metadata": {},
   "outputs": [],
   "source": [
    "covs = returns_df.cov()\n",
    "e_r = returns_df.mean()"
   ]
  },
  {
   "cell_type": "code",
   "execution_count": 63,
   "metadata": {},
   "outputs": [],
   "source": [
    "def min_var_opt(sigma):\n",
    "    n = len(sigma.columns)\n",
    "    i = np.ones(n)\n",
    "    sigma_inverse = pd.DataFrame(np.linalg.pinv(sigma.values), sigma.columns, sigma.index)\n",
    "    numerator = sigma_inverse.dot(i)\n",
    "    denominator = i.T.dot(sigma_inverse).dot(i)\n",
    "    return numerator/denominator\n",
    "\n",
    "def calc_var(sigma, w):\n",
    "    return w.T.dot(sigma).dot(w)\n",
    "\n",
    "def mean_var_opt(risk_param, f_e, sigma, cash):\n",
    "    sigma_inverse = pd.DataFrame(np.linalg.pinv(sigma.values), sigma.columns, sigma.index)\n",
    "    if cash:\n",
    "        weights = (1/risk_param) * sigma_inverse.dot(f_e)\n",
    "        cash_weight = 1 - weights.T.dot(np.ones(len(weights)))\n",
    "        return {'Equity Weights': weights, 'Cash Weight': cash_weight}\n",
    "    else:\n",
    "        n = len(sigma.columns)\n",
    "        i = np.ones(n)\n",
    "        numer1 = sigma_inverse.dot(i)\n",
    "        denom1 = i.T.dot(sigma_inverse).dot(i)\n",
    "        min_var_sol = numer1/denom1\n",
    "        numer2 = (i.T.dot(sigma_inverse).dot(i)) * sigma_inverse.dot(f_e) - (i.T.dot(sigma_inverse).dot(f_e)) * sigma_inverse.dot(i)\n",
    "        return min_var_sol + (1/risk_param) * (numer2)/(denom1)\n",
    "    \n",
    "def characteristic_portfolio_weights(sigma, t):\n",
    "    n = len(sigma.columns)\n",
    "    i = np.ones(n)\n",
    "    sigma_inverse = pd.DataFrame(np.linalg.pinv(sigma.values), sigma.columns, sigma.index)\n",
    "    numer = sigma_inverse.dot(t)\n",
    "    denom = t.T.dot(sigma_inverse).dot(t)\n",
    "    return numer/denom\n"
   ]
  },
  {
   "cell_type": "code",
   "execution_count": 64,
   "metadata": {},
   "outputs": [
    {
     "data": {
      "text/plain": [
       "AMZN    0.047827\n",
       "WM      0.952173\n",
       "dtype: float64"
      ]
     },
     "execution_count": 64,
     "metadata": {},
     "output_type": "execute_result"
    }
   ],
   "source": [
    "characteristic_portfolio_weights(covs, np.ones(2))"
   ]
  },
  {
   "cell_type": "code",
   "execution_count": 65,
   "metadata": {},
   "outputs": [
    {
     "data": {
      "text/plain": [
       "AMZN    0.047827\n",
       "WM      0.952173\n",
       "dtype: float64"
      ]
     },
     "execution_count": 65,
     "metadata": {},
     "output_type": "execute_result"
    }
   ],
   "source": [
    "min_var_opt(covs)"
   ]
  },
  {
   "cell_type": "code",
   "execution_count": null,
   "metadata": {},
   "outputs": [],
   "source": []
  }
 ],
 "metadata": {
  "kernelspec": {
   "display_name": "Python 3",
   "language": "python",
   "name": "python3"
  },
  "language_info": {
   "codemirror_mode": {
    "name": "ipython",
    "version": 3
   },
   "file_extension": ".py",
   "mimetype": "text/x-python",
   "name": "python",
   "nbconvert_exporter": "python",
   "pygments_lexer": "ipython3",
   "version": "3.7.4"
  }
 },
 "nbformat": 4,
 "nbformat_minor": 2
}

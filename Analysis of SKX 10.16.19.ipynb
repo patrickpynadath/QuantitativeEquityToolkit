{
 "cells": [
  {
   "cell_type": "code",
   "execution_count": 9,
   "metadata": {},
   "outputs": [],
   "source": [
    "import requests\n",
    "import pandas as pd\n",
    "import lxml\n",
    "from lxml import html\n",
    "from DataRetrieval import get_sp500_tickers, get_sp500_table, get_avail_tickers\n",
    "from bs4 import *\n",
    "import pickle\n",
    "from basic_analysis_toolkit import BasicAnalysis, get_closest_date\n",
    "from risk_model_toolkit import *\n",
    "from frm_model import *\n",
    "import pandas_datareader as pdr\n",
    "import math\n",
    "from company_toolkit import *\n",
    "import time \n",
    "\n",
    "risk_free_rates = pd.read_csv('treasury_3month_interest_rate.csv', parse_dates = ['DATE'], index_col = 'DATE').reindex(pd.date_range(datetime.date(day=1, month=1, year=2000), datetime.date(day=1, month=1, year=2020), freq='B'))"
   ]
  },
  {
   "cell_type": "code",
   "execution_count": 10,
   "metadata": {},
   "outputs": [],
   "source": [
    "sp500 = pickle.load(open('stock_dataframe.pickle', 'rb'))\n",
    "cd = pickle.load(open('company_dictionary.pickle', 'rb'))\n",
    "frm = pickle.load(open('frm_2017_current.pickle', 'rb'))\n",
    "start_frm = datetime.date(day=1, month=1, year=2017)\n",
    "end_frm = datetime.date(day=1, month=9, year=2019)\n",
    "def get_update_dataframe(start, company_dict):\n",
    "    tickers = list(company_dict.keys())\n",
    "    tickers.append('^GSPC')\n",
    "    end = datetime.date.today()\n",
    "    d = {}\n",
    "    for ticker in tickers:\n",
    "        df = pdr.DataReader([ticker], 'yahoo', start, end)\n",
    "        d.update( df.to_dict() )\n",
    "    return pd.DataFrame(d)\n",
    "\n",
    "#update_df = get_update_dataframe(datetime.date(day=1, month=1, year=2008), cd)\n",
    "#sp500 = get_update_dataframe(sp500.index[0], cd)\n",
    "analysis = BasicAnalysis(sp500)\n",
    "#frm = create_frm(analysis, cd, start_frm, end_frm)"
   ]
  },
  {
   "cell_type": "code",
   "execution_count": 11,
   "metadata": {},
   "outputs": [
    {
     "ename": "AttributeError",
     "evalue": "'NoneType' object has no attribute 'info'",
     "output_type": "error",
     "traceback": [
      "\u001b[0;31m---------------------------------------------------------------------------\u001b[0m",
      "\u001b[0;31mAttributeError\u001b[0m                            Traceback (most recent call last)",
      "\u001b[0;32m<ipython-input-11-7577d9a39d24>\u001b[0m in \u001b[0;36m<module>\u001b[0;34m\u001b[0m\n\u001b[1;32m      1\u001b[0m \u001b[0mticker\u001b[0m \u001b[0;34m=\u001b[0m \u001b[0;34m'SKX'\u001b[0m\u001b[0;34m\u001b[0m\u001b[0;34m\u001b[0m\u001b[0m\n\u001b[0;32m----> 2\u001b[0;31m \u001b[0msector\u001b[0m \u001b[0;34m=\u001b[0m \u001b[0mcd\u001b[0m\u001b[0;34m.\u001b[0m\u001b[0mget\u001b[0m\u001b[0;34m(\u001b[0m\u001b[0;34m'SKX'\u001b[0m\u001b[0;34m)\u001b[0m\u001b[0;34m.\u001b[0m\u001b[0minfo\u001b[0m\u001b[0;34m.\u001b[0m\u001b[0mget\u001b[0m\u001b[0;34m(\u001b[0m\u001b[0;34m'Sector'\u001b[0m\u001b[0;34m)\u001b[0m\u001b[0;34m\u001b[0m\u001b[0;34m\u001b[0m\u001b[0m\n\u001b[0m\u001b[1;32m      3\u001b[0m \u001b[0msector_peers\u001b[0m \u001b[0;34m=\u001b[0m \u001b[0mget_sector_peers\u001b[0m\u001b[0;34m(\u001b[0m\u001b[0mcd\u001b[0m\u001b[0;34m,\u001b[0m \u001b[0msector\u001b[0m\u001b[0;34m)\u001b[0m\u001b[0;34m\u001b[0m\u001b[0;34m\u001b[0m\u001b[0m\n",
      "\u001b[0;31mAttributeError\u001b[0m: 'NoneType' object has no attribute 'info'"
     ]
    }
   ],
   "source": [
    "ticker = 'SKX'\n",
    "sector = cd.get('SKX').info.get('Sector')\n",
    "sector_peers = get_sector_peers(cd, sector)"
   ]
  },
  {
   "cell_type": "code",
   "execution_count": 7,
   "metadata": {},
   "outputs": [
    {
     "data": {
      "text/html": [
       "<div>\n",
       "<style scoped>\n",
       "    .dataframe tbody tr th:only-of-type {\n",
       "        vertical-align: middle;\n",
       "    }\n",
       "\n",
       "    .dataframe tbody tr th {\n",
       "        vertical-align: top;\n",
       "    }\n",
       "\n",
       "    .dataframe thead th {\n",
       "        text-align: right;\n",
       "    }\n",
       "</style>\n",
       "<table border=\"1\" class=\"dataframe\">\n",
       "  <thead>\n",
       "    <tr style=\"text-align: right;\">\n",
       "      <th></th>\n",
       "      <th>Operating Value</th>\n",
       "      <th>wacc</th>\n",
       "      <th>growth</th>\n",
       "      <th>scalability</th>\n",
       "      <th>profitability</th>\n",
       "      <th>Profitability Sensitivity</th>\n",
       "      <th>Sales Sensitivity</th>\n",
       "      <th>Growth Sensitivity</th>\n",
       "      <th>Wacc Sensitivity</th>\n",
       "      <th>Scalability Sensitivity</th>\n",
       "    </tr>\n",
       "  </thead>\n",
       "  <tbody>\n",
       "    <tr>\n",
       "      <th>EA</th>\n",
       "      <td>-2.645358e+10</td>\n",
       "      <td>0.079338</td>\n",
       "      <td>0.042085</td>\n",
       "      <td>0.103102</td>\n",
       "      <td>0.193066</td>\n",
       "      <td>-4.648526</td>\n",
       "      <td>2.274795e-07</td>\n",
       "      <td>72.889798</td>\n",
       "      <td>-12.646396</td>\n",
       "      <td>-18.403838</td>\n",
       "    </tr>\n",
       "  </tbody>\n",
       "</table>\n",
       "</div>"
      ],
      "text/plain": [
       "    Operating Value      wacc    growth  scalability  profitability  \\\n",
       "EA    -2.645358e+10  0.079338  0.042085     0.103102       0.193066   \n",
       "\n",
       "    Profitability Sensitivity  Sales Sensitivity  Growth Sensitivity  \\\n",
       "EA                  -4.648526       2.274795e-07           72.889798   \n",
       "\n",
       "    Wacc Sensitivity  Scalability Sensitivity  \n",
       "EA        -12.646396               -18.403838  "
      ]
     },
     "execution_count": 7,
     "metadata": {},
     "output_type": "execute_result"
    }
   ],
   "source": [
    "cd.get(ticker).forecast_naive_ov(datetime.date.today(), analysis)"
   ]
  },
  {
   "cell_type": "code",
   "execution_count": 8,
   "metadata": {},
   "outputs": [
    {
     "data": {
      "text/plain": [
       "0.8415869003094608"
      ]
     },
     "execution_count": 8,
     "metadata": {},
     "output_type": "execute_result"
    }
   ],
   "source": [
    "analysis.calc_beta_adjusted(ticker, datetime.date.today())"
   ]
  },
  {
   "cell_type": "code",
   "execution_count": 6,
   "metadata": {},
   "outputs": [
    {
     "data": {
      "text/html": [
       "<div>\n",
       "<style scoped>\n",
       "    .dataframe tbody tr th:only-of-type {\n",
       "        vertical-align: middle;\n",
       "    }\n",
       "\n",
       "    .dataframe tbody tr th {\n",
       "        vertical-align: top;\n",
       "    }\n",
       "\n",
       "    .dataframe thead th {\n",
       "        text-align: right;\n",
       "    }\n",
       "</style>\n",
       "<table border=\"1\" class=\"dataframe\">\n",
       "  <thead>\n",
       "    <tr style=\"text-align: right;\">\n",
       "      <th></th>\n",
       "      <th>Operating Value</th>\n",
       "      <th>wacc</th>\n",
       "      <th>growth</th>\n",
       "      <th>scalability</th>\n",
       "      <th>profitability</th>\n",
       "      <th>Profitability Sensitivity</th>\n",
       "      <th>Sales Sensitivity</th>\n",
       "      <th>Growth Sensitivity</th>\n",
       "      <th>Wacc Sensitivity</th>\n",
       "      <th>Scalability Sensitivity</th>\n",
       "    </tr>\n",
       "  </thead>\n",
       "  <tbody>\n",
       "    <tr>\n",
       "      <th>EA</th>\n",
       "      <td>-2.645358e+10</td>\n",
       "      <td>0.079338</td>\n",
       "      <td>0.042085</td>\n",
       "      <td>0.103102</td>\n",
       "      <td>0.193066</td>\n",
       "      <td>-4.648526</td>\n",
       "      <td>2.274795e-07</td>\n",
       "      <td>72.889798</td>\n",
       "      <td>-12.646396</td>\n",
       "      <td>-18.403838</td>\n",
       "    </tr>\n",
       "  </tbody>\n",
       "</table>\n",
       "</div>"
      ],
      "text/plain": [
       "    Operating Value      wacc    growth  scalability  profitability  \\\n",
       "EA    -2.645358e+10  0.079338  0.042085     0.103102       0.193066   \n",
       "\n",
       "    Profitability Sensitivity  Sales Sensitivity  Growth Sensitivity  \\\n",
       "EA                  -4.648526       2.274795e-07           72.889798   \n",
       "\n",
       "    Wacc Sensitivity  Scalability Sensitivity  \n",
       "EA        -12.646396               -18.403838  "
      ]
     },
     "execution_count": 6,
     "metadata": {},
     "output_type": "execute_result"
    }
   ],
   "source": [
    "cd.get(ticker).forecast_naive_ov(datetime.date.today(), analysis)"
   ]
  },
  {
   "cell_type": "code",
   "execution_count": 7,
   "metadata": {},
   "outputs": [
    {
     "data": {
      "text/html": [
       "<div>\n",
       "<style scoped>\n",
       "    .dataframe tbody tr th:only-of-type {\n",
       "        vertical-align: middle;\n",
       "    }\n",
       "\n",
       "    .dataframe tbody tr th {\n",
       "        vertical-align: top;\n",
       "    }\n",
       "\n",
       "    .dataframe thead th {\n",
       "        text-align: right;\n",
       "    }\n",
       "</style>\n",
       "<table border=\"1\" class=\"dataframe\">\n",
       "  <thead>\n",
       "    <tr style=\"text-align: right;\">\n",
       "      <th></th>\n",
       "      <th>EA Estimate</th>\n",
       "      <th>EA 5 yr hist avg</th>\n",
       "      <th>Technology Avg</th>\n",
       "    </tr>\n",
       "  </thead>\n",
       "  <tbody>\n",
       "    <tr>\n",
       "      <th>EBITDA Margin</th>\n",
       "      <td>0.204277</td>\n",
       "      <td>0.235623</td>\n",
       "      <td>0.195998</td>\n",
       "    </tr>\n",
       "    <tr>\n",
       "      <th>Depr/Sales</th>\n",
       "      <td>0.028687</td>\n",
       "      <td>0.032411</td>\n",
       "      <td>0.063371</td>\n",
       "    </tr>\n",
       "    <tr>\n",
       "      <th>Operating Margin</th>\n",
       "      <td>0.175590</td>\n",
       "      <td>0.203212</td>\n",
       "      <td>0.132627</td>\n",
       "    </tr>\n",
       "    <tr>\n",
       "      <th>Tax Rate</th>\n",
       "      <td>-0.310690</td>\n",
       "      <td>0.056991</td>\n",
       "      <td>1.061143</td>\n",
       "    </tr>\n",
       "    <tr>\n",
       "      <th>NOPAT Margin</th>\n",
       "      <td>0.230144</td>\n",
       "      <td>0.191630</td>\n",
       "      <td>-0.008109</td>\n",
       "    </tr>\n",
       "  </tbody>\n",
       "</table>\n",
       "</div>"
      ],
      "text/plain": [
       "                  EA Estimate  EA 5 yr hist avg  Technology Avg\n",
       "EBITDA Margin        0.204277          0.235623        0.195998\n",
       "Depr/Sales           0.028687          0.032411        0.063371\n",
       "Operating Margin     0.175590          0.203212        0.132627\n",
       "Tax Rate            -0.310690          0.056991        1.061143\n",
       "NOPAT Margin         0.230144          0.191630       -0.008109"
      ]
     },
     "execution_count": 7,
     "metadata": {},
     "output_type": "execute_result"
    }
   ],
   "source": [
    "# creating a table to compare it to it's sector peers\n",
    "cd.get(ticker).get_fcffs_historical()\n",
    "cd.get(ticker).profitability_analysis(cd)"
   ]
  },
  {
   "cell_type": "code",
   "execution_count": 8,
   "metadata": {},
   "outputs": [],
   "source": [
    "historical_financials = cd.get(ticker).get_fcffs_historical().transpose()\n",
    "nopat_margins = historical_financials['NOPAT']/historical_financials['Revenue']"
   ]
  },
  {
   "cell_type": "code",
   "execution_count": 9,
   "metadata": {},
   "outputs": [
    {
     "data": {
      "text/plain": [
       "2016-03-31    0.150161\n",
       "2017-03-31    0.202810\n",
       "2018-03-31    0.240788\n",
       "2019-03-31    0.178505\n",
       "dtype: float64"
      ]
     },
     "execution_count": 9,
     "metadata": {},
     "output_type": "execute_result"
    }
   ],
   "source": [
    "nopat_margins"
   ]
  },
  {
   "cell_type": "code",
   "execution_count": 10,
   "metadata": {},
   "outputs": [],
   "source": [
    "end = datetime.date.today()\n",
    "start = datetime.date.today() - datetime.timedelta(days=365 * 2)\n",
    "closes = analysis.get_close(ticker, start, end, 'BM')\n",
    "mr = analysis.get_percent_change(ticker, start, end, 'BM')"
   ]
  },
  {
   "cell_type": "code",
   "execution_count": 11,
   "metadata": {},
   "outputs": [
    {
     "data": {
      "text/plain": [
       "<matplotlib.axes._subplots.AxesSubplot at 0x1a2c7c04a8>"
      ]
     },
     "execution_count": 11,
     "metadata": {},
     "output_type": "execute_result"
    }
   ],
   "source": [
    "mr.plot()"
   ]
  },
  {
   "cell_type": "code",
   "execution_count": 12,
   "metadata": {},
   "outputs": [
    {
     "data": {
      "text/plain": [
       "<matplotlib.axes._subplots.AxesSubplot at 0x1a2c8fcb70>"
      ]
     },
     "execution_count": 12,
     "metadata": {},
     "output_type": "execute_result"
    },
    {
     "data": {
      "image/png": "[encoded data removed]",
      "text/plain": [
       "<Figure size 432x288 with 1 Axes>"
      ]
     },
     "metadata": {
      "needs_background": "light"
     },
     "output_type": "display_data"
    }
   ],
   "source": [
    "\n",
    "market_mr = analysis.get_percent_change('^GSPC', start, end, 'BM')\n",
    "market_mr.plot()"
   ]
  },
  {
   "cell_type": "code",
   "execution_count": 13,
   "metadata": {},
   "outputs": [],
   "source": [
    "ebitda_revenue = historical_financials['EBITDA']/historical_financials['Revenue']\n",
    "costs_revenue = historical_financials['Operating Expense']/historical_financials['Revenue'] "
   ]
  },
  {
   "cell_type": "code",
   "execution_count": 14,
   "metadata": {},
   "outputs": [],
   "source": [
    "def get_residuals(self, ticker, start, end):\n",
    "    beta = self.calc_beta_adjusted(ticker, end)\n",
    "    predicted_returns = beta * self.get_percent_change('^GSPC', start, end, 'BM')\n",
    "    return predicted_returns"
   ]
  },
  {
   "cell_type": "code",
   "execution_count": 15,
   "metadata": {},
   "outputs": [
    {
     "data": {
      "text/plain": [
       "0.005851939306070077"
      ]
     },
     "execution_count": 15,
     "metadata": {},
     "output_type": "execute_result"
    }
   ],
   "source": [
    "get_residuals(analysis, ticker, start, end).mean()"
   ]
  },
  {
   "cell_type": "code",
   "execution_count": 16,
   "metadata": {},
   "outputs": [],
   "source": [
    "# creating the df for comparison\n",
    "d = {}\n",
    "get_industry = lambda ticker : cd.get(ticker).info.get('Industry')\n",
    "industries = [get_industry(ticker) for ticker in sector_peers]\n",
    "get_beta = lambda ticker : analysis.calc_beta_adjusted(ticker, end)\n",
    "betas = [get_beta(ticker) for ticker in sector_peers]\n",
    "get_profitability = lambda ticker : cd.get(ticker).get_profitability().mean()\n",
    "profit_values = [get_profitability(ticker) for ticker in sector_peers]\n",
    "get_waccs = lambda ticker : cd.get(ticker).calc_wacc(end, analysis)\n",
    "waccs = [get_waccs(ticker) for ticker in sector_peers]\n",
    "get_equity_multiplier = lambda ticker : cd.get(ticker).equity_multiplier().mean()\n",
    "em = [get_equity_multiplier(ticker) for ticker in sector_peers]\n",
    "get_debt_equity = lambda ticker : cd.get(ticker).debt_equity().mean()\n",
    "de = [get_debt_equity(ticker) for ticker in sector_peers]\n",
    "get_pb = lambda ticker : cd.get(ticker).price_book().mean()\n",
    "pb = [get_pb(ticker) for ticker in sector_peers]\n",
    "sector_df = pd.DataFrame({'Industries' : industries\n",
    "                         ,'Betas' : betas\n",
    "                         ,'Profit Margins' : profit_values\n",
    "                         ,'WACCS': waccs\n",
    "                         ,'Equity Multiplier' : em\n",
    "                         ,'Debt Equity Ratio' : de\n",
    "                         ,'Price Book' : pb}, \n",
    "                        index = sector_peers)"
   ]
  },
  {
   "cell_type": "code",
   "execution_count": 17,
   "metadata": {},
   "outputs": [
    {
     "data": {
      "text/plain": [
       "'Electronic Gaming & Multimedia'"
      ]
     },
     "execution_count": 17,
     "metadata": {},
     "output_type": "execute_result"
    }
   ],
   "source": [
    "cd.get(ticker).info.get('Industry')"
   ]
  },
  {
   "cell_type": "code",
   "execution_count": 18,
   "metadata": {},
   "outputs": [],
   "source": [
    "get_profitability = lambda ticker : cd.get(ticker).get_profitability().mean()\n",
    "profit_values = [get_profitability(ticker) for ticker in sector_peers]"
   ]
  },
  {
   "cell_type": "code",
   "execution_count": 19,
   "metadata": {},
   "outputs": [
    {
     "data": {
      "text/html": [
       "<div>\n",
       "<style scoped>\n",
       "    .dataframe tbody tr th:only-of-type {\n",
       "        vertical-align: middle;\n",
       "    }\n",
       "\n",
       "    .dataframe tbody tr th {\n",
       "        vertical-align: top;\n",
       "    }\n",
       "\n",
       "    .dataframe thead th {\n",
       "        text-align: right;\n",
       "    }\n",
       "</style>\n",
       "<table border=\"1\" class=\"dataframe\">\n",
       "  <thead>\n",
       "    <tr style=\"text-align: right;\">\n",
       "      <th></th>\n",
       "      <th>Industries</th>\n",
       "      <th>Betas</th>\n",
       "      <th>Profit Margins</th>\n",
       "      <th>WACCS</th>\n",
       "      <th>Equity Multiplier</th>\n",
       "      <th>Debt Equity Ratio</th>\n",
       "      <th>Price Book</th>\n",
       "    </tr>\n",
       "  </thead>\n",
       "  <tbody>\n",
       "    <tr>\n",
       "      <th>ATVI</th>\n",
       "      <td>Electronic Gaming &amp; Multimedia</td>\n",
       "      <td>0.452870</td>\n",
       "      <td>0.091639</td>\n",
       "      <td>0.056550</td>\n",
       "      <td>1.836709</td>\n",
       "      <td>0.743665</td>\n",
       "      <td>2.494736</td>\n",
       "    </tr>\n",
       "    <tr>\n",
       "      <th>EA</th>\n",
       "      <td>Electronic Gaming &amp; Multimedia</td>\n",
       "      <td>0.841587</td>\n",
       "      <td>0.193066</td>\n",
       "      <td>0.079338</td>\n",
       "      <td>1.881312</td>\n",
       "      <td>0.802809</td>\n",
       "      <td>3.624621</td>\n",
       "    </tr>\n",
       "    <tr>\n",
       "      <th>TTWO</th>\n",
       "      <td>Electronic Gaming &amp; Multimedia</td>\n",
       "      <td>1.026066</td>\n",
       "      <td>0.023976</td>\n",
       "      <td>0.090155</td>\n",
       "      <td>3.045627</td>\n",
       "      <td>1.751989</td>\n",
       "      <td>4.271832</td>\n",
       "    </tr>\n",
       "  </tbody>\n",
       "</table>\n",
       "</div>"
      ],
      "text/plain": [
       "                          Industries     Betas  Profit Margins     WACCS  \\\n",
       "ATVI  Electronic Gaming & Multimedia  0.452870        0.091639  0.056550   \n",
       "EA    Electronic Gaming & Multimedia  0.841587        0.193066  0.079338   \n",
       "TTWO  Electronic Gaming & Multimedia  1.026066        0.023976  0.090155   \n",
       "\n",
       "      Equity Multiplier  Debt Equity Ratio  Price Book  \n",
       "ATVI           1.836709           0.743665    2.494736  \n",
       "EA             1.881312           0.802809    3.624621  \n",
       "TTWO           3.045627           1.751989    4.271832  "
      ]
     },
     "execution_count": 19,
     "metadata": {},
     "output_type": "execute_result"
    }
   ],
   "source": [
    "sector_df.groupby('Industries').get_group('Electronic Gaming & Multimedia')"
   ]
  },
  {
   "cell_type": "code",
   "execution_count": 20,
   "metadata": {},
   "outputs": [
    {
     "data": {
      "text/html": [
       "<div>\n",
       "<style scoped>\n",
       "    .dataframe tbody tr th:only-of-type {\n",
       "        vertical-align: middle;\n",
       "    }\n",
       "\n",
       "    .dataframe tbody tr th {\n",
       "        vertical-align: top;\n",
       "    }\n",
       "\n",
       "    .dataframe thead th {\n",
       "        text-align: right;\n",
       "    }\n",
       "</style>\n",
       "<table border=\"1\" class=\"dataframe\">\n",
       "  <thead>\n",
       "    <tr style=\"text-align: right;\">\n",
       "      <th></th>\n",
       "      <th>ATVI Estimate</th>\n",
       "      <th>ATVI 5 yr hist avg</th>\n",
       "      <th>Technology Avg</th>\n",
       "    </tr>\n",
       "  </thead>\n",
       "  <tbody>\n",
       "    <tr>\n",
       "      <th>EBITDA Margin</th>\n",
       "      <td>0.283877</td>\n",
       "      <td>0.240473</td>\n",
       "      <td>0.195998</td>\n",
       "    </tr>\n",
       "    <tr>\n",
       "      <th>Depr/Sales</th>\n",
       "      <td>0.067867</td>\n",
       "      <td>0.085060</td>\n",
       "      <td>0.063371</td>\n",
       "    </tr>\n",
       "    <tr>\n",
       "      <th>Operating Margin</th>\n",
       "      <td>0.216010</td>\n",
       "      <td>0.155413</td>\n",
       "      <td>0.132627</td>\n",
       "    </tr>\n",
       "    <tr>\n",
       "      <th>Tax Rate</th>\n",
       "      <td>0.172961</td>\n",
       "      <td>0.239166</td>\n",
       "      <td>1.061143</td>\n",
       "    </tr>\n",
       "    <tr>\n",
       "      <th>NOPAT Margin</th>\n",
       "      <td>0.178649</td>\n",
       "      <td>0.118244</td>\n",
       "      <td>-0.008109</td>\n",
       "    </tr>\n",
       "  </tbody>\n",
       "</table>\n",
       "</div>"
      ],
      "text/plain": [
       "                  ATVI Estimate  ATVI 5 yr hist avg  Technology Avg\n",
       "EBITDA Margin          0.283877            0.240473        0.195998\n",
       "Depr/Sales             0.067867            0.085060        0.063371\n",
       "Operating Margin       0.216010            0.155413        0.132627\n",
       "Tax Rate               0.172961            0.239166        1.061143\n",
       "NOPAT Margin           0.178649            0.118244       -0.008109"
      ]
     },
     "execution_count": 20,
     "metadata": {},
     "output_type": "execute_result"
    }
   ],
   "source": [
    "cd.get('ATVI').profitability_analysis(cd)"
   ]
  },
  {
   "cell_type": "code",
   "execution_count": 21,
   "metadata": {},
   "outputs": [],
   "source": [
    "monthly_returns_df = pd.DataFrame()\n",
    "monthly_returns_df['ATVI'] = analysis.get_percent_change('ATVI', start, end, 'BM')\n",
    "monthly_returns_df['EA'] = analysis.get_percent_change('EA', start, end, 'BM')\n",
    "monthly_returns_df['TTWO'] = analysis.get_percent_change('TTWO', start, end, 'BM')\n",
    "\n",
    "closes_df = pd.DataFrame()\n",
    "closes_df['ATVI'] = analysis.get_close('ATVI', start, end, 'BM')\n",
    "closes_df['EA'] = analysis.get_close('EA', start, end, 'BM')\n",
    "closes_df['TTWO'] = analysis.get_close('TTWO', start, end, 'BM')\n",
    "\n",
    "\n",
    "overall_returns_df = pd.DataFrame()\n",
    "overall_returns_df['ATVI'] = analysis.get_return('ATVI', start, end, 'BM')\n",
    "overall_returns_df['EA'] = analysis.get_return('EA', start, end, 'BM')\n",
    "overall_returns_df['TTWO'] = analysis.get_return('TTWO', start, end, 'BM')"
   ]
  },
  {
   "cell_type": "code",
   "execution_count": 22,
   "metadata": {},
   "outputs": [
    {
     "data": {
      "text/plain": [
       "<matplotlib.axes._subplots.AxesSubplot at 0x1a2cb01128>"
      ]
     },
     "execution_count": 22,
     "metadata": {},
     "output_type": "execute_result"
    },
    {
     "data": {
      "image/png": "[encoded data removed]",
      "text/plain": [
       "<Figure size 432x288 with 1 Axes>"
      ]
     },
     "metadata": {
      "needs_background": "light"
     },
     "output_type": "display_data"
    }
   ],
   "source": [
    "overall_returns_df.plot()"
   ]
  },
  {
   "cell_type": "code",
   "execution_count": 23,
   "metadata": {},
   "outputs": [
    {
     "data": {
      "text/plain": [
       "0.0901545344167894"
      ]
     },
     "execution_count": 23,
     "metadata": {},
     "output_type": "execute_result"
    }
   ],
   "source": [
    "cd.get('TTWO').calc_wacc(datetime.date.today(), analysis)"
   ]
  },
  {
   "cell_type": "code",
   "execution_count": 24,
   "metadata": {},
   "outputs": [
    {
     "data": {
      "text/plain": [
       "<matplotlib.axes._subplots.AxesSubplot at 0x1a2d92c828>"
      ]
     },
     "execution_count": 24,
     "metadata": {},
     "output_type": "execute_result"
    },
    {
     "data": {
      "image/png": "[encoded data removed]",
      "text/plain": [
       "<Figure size 432x288 with 1 Axes>"
      ]
     },
     "metadata": {
      "needs_background": "light"
     },
     "output_type": "display_data"
    }
   ],
   "source": [
    "monthly_returns_df.plot()"
   ]
  },
  {
   "cell_type": "code",
   "execution_count": 25,
   "metadata": {},
   "outputs": [
    {
     "data": {
      "text/plain": [
       "<matplotlib.axes._subplots.AxesSubplot at 0x1a2d9decf8>"
      ]
     },
     "execution_count": 25,
     "metadata": {},
     "output_type": "execute_result"
    },
    {
     "data": {
      "image/png": "[encoded data removed]",
      "text/plain": [
       "<Figure size 432x288 with 1 Axes>"
      ]
     },
     "metadata": {
      "needs_background": "light"
     },
     "output_type": "display_data"
    }
   ],
   "source": [
    "closes_df.plot()"
   ]
  },
  {
   "cell_type": "code",
   "execution_count": 26,
   "metadata": {},
   "outputs": [
    {
     "data": {
      "text/html": [
       "<div>\n",
       "<style scoped>\n",
       "    .dataframe tbody tr th:only-of-type {\n",
       "        vertical-align: middle;\n",
       "    }\n",
       "\n",
       "    .dataframe tbody tr th {\n",
       "        vertical-align: top;\n",
       "    }\n",
       "\n",
       "    .dataframe thead th {\n",
       "        text-align: right;\n",
       "    }\n",
       "</style>\n",
       "<table border=\"1\" class=\"dataframe\">\n",
       "  <thead>\n",
       "    <tr style=\"text-align: right;\">\n",
       "      <th></th>\n",
       "      <th>TTWO Estimate</th>\n",
       "      <th>TTWO Historical Avg</th>\n",
       "      <th>Technology Avg</th>\n",
       "    </tr>\n",
       "  </thead>\n",
       "  <tbody>\n",
       "    <tr>\n",
       "      <th>RIC</th>\n",
       "      <td>0.137035</td>\n",
       "      <td>0.077233</td>\n",
       "      <td>-0.056826</td>\n",
       "    </tr>\n",
       "    <tr>\n",
       "      <th>WACC</th>\n",
       "      <td>0.090155</td>\n",
       "      <td>NaN</td>\n",
       "      <td>0.098193</td>\n",
       "    </tr>\n",
       "  </tbody>\n",
       "</table>\n",
       "</div>"
      ],
      "text/plain": [
       "      TTWO Estimate  TTWO Historical Avg  Technology Avg\n",
       "RIC        0.137035             0.077233       -0.056826\n",
       "WACC       0.090155                  NaN        0.098193"
      ]
     },
     "execution_count": 26,
     "metadata": {},
     "output_type": "execute_result"
    }
   ],
   "source": [
    "cd.get('TTWO').eva_analysis(datetime.date.today(), analysis, cd)"
   ]
  },
  {
   "cell_type": "code",
   "execution_count": 27,
   "metadata": {},
   "outputs": [
    {
     "data": {
      "text/plain": [
       "0.007134707059350411"
      ]
     },
     "execution_count": 27,
     "metadata": {},
     "output_type": "execute_result"
    }
   ],
   "source": [
    "get_residuals(analysis, 'TTWO', start, end).mean()"
   ]
  },
  {
   "cell_type": "code",
   "execution_count": 28,
   "metadata": {},
   "outputs": [
    {
     "data": {
      "text/plain": [
       "0.0031490093909221067"
      ]
     },
     "execution_count": 28,
     "metadata": {},
     "output_type": "execute_result"
    }
   ],
   "source": [
    "get_residuals(analysis, 'ATVI', start, end).mean()"
   ]
  },
  {
   "cell_type": "code",
   "execution_count": 31,
   "metadata": {},
   "outputs": [
    {
     "data": {
      "text/html": [
       "<div>\n",
       "<style scoped>\n",
       "    .dataframe tbody tr th:only-of-type {\n",
       "        vertical-align: middle;\n",
       "    }\n",
       "\n",
       "    .dataframe tbody tr th {\n",
       "        vertical-align: top;\n",
       "    }\n",
       "\n",
       "    .dataframe thead th {\n",
       "        text-align: right;\n",
       "    }\n",
       "</style>\n",
       "<table border=\"1\" class=\"dataframe\">\n",
       "  <thead>\n",
       "    <tr style=\"text-align: right;\">\n",
       "      <th></th>\n",
       "      <th>2015-12-31 00:00:00</th>\n",
       "      <th>2016-12-31 00:00:00</th>\n",
       "      <th>2017-12-31 00:00:00</th>\n",
       "      <th>2018-12-31 00:00:00</th>\n",
       "    </tr>\n",
       "  </thead>\n",
       "  <tbody>\n",
       "    <tr>\n",
       "      <th>Revenue</th>\n",
       "      <td>4.664000e+06</td>\n",
       "      <td>6.608000e+06</td>\n",
       "      <td>7.017000e+06</td>\n",
       "      <td>7.500000e+06</td>\n",
       "    </tr>\n",
       "    <tr>\n",
       "      <th>Operating Expense</th>\n",
       "      <td>3.340000e+06</td>\n",
       "      <td>5.149000e+06</td>\n",
       "      <td>5.678000e+06</td>\n",
       "      <td>5.502000e+06</td>\n",
       "    </tr>\n",
       "    <tr>\n",
       "      <th>EBITDA</th>\n",
       "      <td>1.324000e+06</td>\n",
       "      <td>1.459000e+06</td>\n",
       "      <td>1.339000e+06</td>\n",
       "      <td>1.998000e+06</td>\n",
       "    </tr>\n",
       "    <tr>\n",
       "      <th>Depreciation</th>\n",
       "      <td>9.500000e+04</td>\n",
       "      <td>8.290000e+05</td>\n",
       "      <td>8.880000e+05</td>\n",
       "      <td>5.090000e+05</td>\n",
       "    </tr>\n",
       "    <tr>\n",
       "      <th>Other Income</th>\n",
       "      <td>-2.030000e+05</td>\n",
       "      <td>-3.530000e+05</td>\n",
       "      <td>-1.880000e+05</td>\n",
       "      <td>-1.210000e+05</td>\n",
       "    </tr>\n",
       "    <tr>\n",
       "      <th>EBIT</th>\n",
       "      <td>1.026000e+06</td>\n",
       "      <td>2.770000e+05</td>\n",
       "      <td>2.630000e+05</td>\n",
       "      <td>1.368000e+06</td>\n",
       "    </tr>\n",
       "    <tr>\n",
       "      <th>NOPAT</th>\n",
       "      <td>7.806162e+05</td>\n",
       "      <td>2.107511e+05</td>\n",
       "      <td>2.000995e+05</td>\n",
       "      <td>1.040822e+06</td>\n",
       "    </tr>\n",
       "    <tr>\n",
       "      <th>Change in NWC</th>\n",
       "      <td>NaN</td>\n",
       "      <td>1.398000e+06</td>\n",
       "      <td>6.830000e+05</td>\n",
       "      <td>6.070000e+05</td>\n",
       "    </tr>\n",
       "    <tr>\n",
       "      <th>CAPX</th>\n",
       "      <td>-1.110000e+05</td>\n",
       "      <td>-1.360000e+05</td>\n",
       "      <td>-1.550000e+05</td>\n",
       "      <td>-1.310000e+05</td>\n",
       "    </tr>\n",
       "    <tr>\n",
       "      <th>Other Investments</th>\n",
       "      <td>-3.559000e+06</td>\n",
       "      <td>-7.000000e+03</td>\n",
       "      <td>3.000000e+03</td>\n",
       "      <td>-6.000000e+03</td>\n",
       "    </tr>\n",
       "    <tr>\n",
       "      <th>FCFF</th>\n",
       "      <td>NaN</td>\n",
       "      <td>-2.152489e+05</td>\n",
       "      <td>5.570995e+05</td>\n",
       "      <td>1.079822e+06</td>\n",
       "    </tr>\n",
       "  </tbody>\n",
       "</table>\n",
       "</div>"
      ],
      "text/plain": [
       "                     2015-12-31    2016-12-31    2017-12-31    2018-12-31\n",
       "Revenue            4.664000e+06  6.608000e+06  7.017000e+06  7.500000e+06\n",
       "Operating Expense  3.340000e+06  5.149000e+06  5.678000e+06  5.502000e+06\n",
       "EBITDA             1.324000e+06  1.459000e+06  1.339000e+06  1.998000e+06\n",
       "Depreciation       9.500000e+04  8.290000e+05  8.880000e+05  5.090000e+05\n",
       "Other Income      -2.030000e+05 -3.530000e+05 -1.880000e+05 -1.210000e+05\n",
       "EBIT               1.026000e+06  2.770000e+05  2.630000e+05  1.368000e+06\n",
       "NOPAT              7.806162e+05  2.107511e+05  2.000995e+05  1.040822e+06\n",
       "Change in NWC               NaN  1.398000e+06  6.830000e+05  6.070000e+05\n",
       "CAPX              -1.110000e+05 -1.360000e+05 -1.550000e+05 -1.310000e+05\n",
       "Other Investments -3.559000e+06 -7.000000e+03  3.000000e+03 -6.000000e+03\n",
       "FCFF                        NaN -2.152489e+05  5.570995e+05  1.079822e+06"
      ]
     },
     "execution_count": 31,
     "metadata": {},
     "output_type": "execute_result"
    }
   ],
   "source": [
    "cd.get('ATVI').get_fcffs_historical()"
   ]
  },
  {
   "cell_type": "code",
   "execution_count": 32,
   "metadata": {},
   "outputs": [
    {
     "data": {
      "text/html": [
       "<div>\n",
       "<style scoped>\n",
       "    .dataframe tbody tr th:only-of-type {\n",
       "        vertical-align: middle;\n",
       "    }\n",
       "\n",
       "    .dataframe tbody tr th {\n",
       "        vertical-align: top;\n",
       "    }\n",
       "\n",
       "    .dataframe thead th {\n",
       "        text-align: right;\n",
       "    }\n",
       "</style>\n",
       "<table border=\"1\" class=\"dataframe\">\n",
       "  <thead>\n",
       "    <tr style=\"text-align: right;\">\n",
       "      <th></th>\n",
       "      <th>2016-03-31 00:00:00</th>\n",
       "      <th>2017-03-31 00:00:00</th>\n",
       "      <th>2018-03-31 00:00:00</th>\n",
       "      <th>2019-03-31 00:00:00</th>\n",
       "    </tr>\n",
       "  </thead>\n",
       "  <tbody>\n",
       "    <tr>\n",
       "      <th>Revenue</th>\n",
       "      <td>4.396000e+06</td>\n",
       "      <td>4.845000e+06</td>\n",
       "      <td>5.150000e+06</td>\n",
       "      <td>4.950000e+06</td>\n",
       "    </tr>\n",
       "    <tr>\n",
       "      <th>Operating Expense</th>\n",
       "      <td>3.498000e+06</td>\n",
       "      <td>3.606000e+06</td>\n",
       "      <td>3.716000e+06</td>\n",
       "      <td>3.940000e+06</td>\n",
       "    </tr>\n",
       "    <tr>\n",
       "      <th>EBITDA</th>\n",
       "      <td>8.980000e+05</td>\n",
       "      <td>1.239000e+06</td>\n",
       "      <td>1.434000e+06</td>\n",
       "      <td>1.010000e+06</td>\n",
       "    </tr>\n",
       "    <tr>\n",
       "      <th>Depreciation</th>\n",
       "      <td>1.770000e+05</td>\n",
       "      <td>1.680000e+05</td>\n",
       "      <td>1.340000e+05</td>\n",
       "      <td>1.420000e+05</td>\n",
       "    </tr>\n",
       "    <tr>\n",
       "      <th>Other Income</th>\n",
       "      <td>-2.100000e+04</td>\n",
       "      <td>-2.900000e+04</td>\n",
       "      <td>1.500000e+04</td>\n",
       "      <td>6.900000e+04</td>\n",
       "    </tr>\n",
       "    <tr>\n",
       "      <th>EBIT</th>\n",
       "      <td>7.000000e+05</td>\n",
       "      <td>1.042000e+06</td>\n",
       "      <td>1.315000e+06</td>\n",
       "      <td>9.370000e+05</td>\n",
       "    </tr>\n",
       "    <tr>\n",
       "      <th>NOPAT</th>\n",
       "      <td>6.601060e+05</td>\n",
       "      <td>9.826150e+05</td>\n",
       "      <td>1.240056e+06</td>\n",
       "      <td>8.835991e+05</td>\n",
       "    </tr>\n",
       "    <tr>\n",
       "      <th>Change in NWC</th>\n",
       "      <td>NaN</td>\n",
       "      <td>8.480000e+05</td>\n",
       "      <td>7.290000e+05</td>\n",
       "      <td>6.030000e+05</td>\n",
       "    </tr>\n",
       "    <tr>\n",
       "      <th>CAPX</th>\n",
       "      <td>-9.300000e+04</td>\n",
       "      <td>-1.230000e+05</td>\n",
       "      <td>-1.070000e+05</td>\n",
       "      <td>-1.190000e+05</td>\n",
       "    </tr>\n",
       "    <tr>\n",
       "      <th>Other Investments</th>\n",
       "      <td>0.000000e+00</td>\n",
       "      <td>0.000000e+00</td>\n",
       "      <td>0.000000e+00</td>\n",
       "      <td>0.000000e+00</td>\n",
       "    </tr>\n",
       "    <tr>\n",
       "      <th>FCFF</th>\n",
       "      <td>NaN</td>\n",
       "      <td>4.256150e+05</td>\n",
       "      <td>7.520563e+05</td>\n",
       "      <td>5.415991e+05</td>\n",
       "    </tr>\n",
       "  </tbody>\n",
       "</table>\n",
       "</div>"
      ],
      "text/plain": [
       "                     2016-03-31    2017-03-31    2018-03-31    2019-03-31\n",
       "Revenue            4.396000e+06  4.845000e+06  5.150000e+06  4.950000e+06\n",
       "Operating Expense  3.498000e+06  3.606000e+06  3.716000e+06  3.940000e+06\n",
       "EBITDA             8.980000e+05  1.239000e+06  1.434000e+06  1.010000e+06\n",
       "Depreciation       1.770000e+05  1.680000e+05  1.340000e+05  1.420000e+05\n",
       "Other Income      -2.100000e+04 -2.900000e+04  1.500000e+04  6.900000e+04\n",
       "EBIT               7.000000e+05  1.042000e+06  1.315000e+06  9.370000e+05\n",
       "NOPAT              6.601060e+05  9.826150e+05  1.240056e+06  8.835991e+05\n",
       "Change in NWC               NaN  8.480000e+05  7.290000e+05  6.030000e+05\n",
       "CAPX              -9.300000e+04 -1.230000e+05 -1.070000e+05 -1.190000e+05\n",
       "Other Investments  0.000000e+00  0.000000e+00  0.000000e+00  0.000000e+00\n",
       "FCFF                        NaN  4.256150e+05  7.520563e+05  5.415991e+05"
      ]
     },
     "execution_count": 32,
     "metadata": {},
     "output_type": "execute_result"
    }
   ],
   "source": [
    "cd.get(ticker).get_fcffs_historical()"
   ]
  },
  {
   "cell_type": "code",
   "execution_count": 37,
   "metadata": {},
   "outputs": [],
   "source": [
    "#cd.get(ticker).calc_wacc(datetime.date.today(), analysis)"
   ]
  },
  {
   "cell_type": "code",
   "execution_count": 42,
   "metadata": {},
   "outputs": [
    {
     "data": {
      "text/plain": [
       "Index(['Cash And Cash Equivalents', 'Short Term Investments',\n",
       "       'Net Receivables', 'Inventory', 'Other Current Assets',\n",
       "       'Total Current Assets', 'Long Term Investments',\n",
       "       'Property, plant and equipment', 'Goodwill', 'Intangible Assets',\n",
       "       'Accumulated Amortization', 'Other Assets',\n",
       "       'Deferred Long Term Asset Charges', 'Total Assets',\n",
       "       'Current Liabilities', 'Accounts Payable',\n",
       "       'Short/Current Long Term Debt', 'Other Current Liabilities',\n",
       "       'Total Current Liabilities', 'Long Term Debt', 'Other Liabilities',\n",
       "       'Deferred Long Term Liability Charges', 'Minority Interest',\n",
       "       'Negative Goodwill', 'Total Liabilities', 'Stockholders' Equity',\n",
       "       'Misc. Stocks Options Warrants', 'Redeemable Preferred Stock',\n",
       "       'Preferred Stock', 'Common Stock', 'Retained Earnings',\n",
       "       'Treasury Stock', 'Capital Surplus', 'Other Stockholder Equity',\n",
       "       'Total stockholders' equity', 'Net Tangible Assets'],\n",
       "      dtype='object', name=0)"
      ]
     },
     "execution_count": 42,
     "metadata": {},
     "output_type": "execute_result"
    }
   ],
   "source": [
    "cd.get(ticker).balance.columns"
   ]
  },
  {
   "cell_type": "code",
   "execution_count": 8,
   "metadata": {},
   "outputs": [],
   "source": [
    "pickle.dump(sp500, open('stock_dataframe.pickle', 'wb'))"
   ]
  },
  {
   "cell_type": "code",
   "execution_count": null,
   "metadata": {},
   "outputs": [],
   "source": []
  }
 ],
 "metadata": {
  "kernelspec": {
   "display_name": "Python 3",
   "language": "python",
   "name": "python3"
  },
  "language_info": {
   "codemirror_mode": {
    "name": "ipython",
    "version": 3
   },
   "file_extension": ".py",
   "mimetype": "text/x-python",
   "name": "python",
   "nbconvert_exporter": "python",
   "pygments_lexer": "ipython3",
   "version": "3.7.3"
  }
 },
 "nbformat": 4,
 "nbformat_minor": 2
}
